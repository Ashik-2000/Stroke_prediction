{
 "cells": [
  {
   "cell_type": "code",
   "execution_count": 115,
   "metadata": {},
   "outputs": [],
   "source": [
    "import pandas as pd\n",
    "import numpy as np\n",
    "from sklearn.model_selection import train_test_split \n",
    "from sklearn.metrics import classification_report, confusion_matrix\n",
    "from sklearn.svm import SVC\n",
    "from sklearn import svm\n",
    "import seaborn as sns\n",
    "from sklearn.ensemble import RandomForestRegressor\n",
    "from sklearn.model_selection import train_test_split\n",
    "import matplotlib.pyplot as plt\n",
    "from sklearn.linear_model import LogisticRegression\n",
    "from sklearn import metrics\n",
    "from sklearn.linear_model import LogisticRegression\n",
    "import seaborn as sns\n",
    "from sklearn.preprocessing import StandardScaler\n",
    "from sklearn.datasets import load_iris\n",
    "import sklearn.metrics as sm\n",
    "from sklearn.tree import DecisionTreeClassifier\n",
    "from sklearn import linear_model\n",
    "from sklearn.ensemble import RandomForestRegressor\n",
    "from sklearn.naive_bayes import GaussianNB\n",
    "from sklearn.neighbors import KNeighborsClassifier"
   ]
  },
  {
   "cell_type": "code",
   "execution_count": 116,
   "metadata": {},
   "outputs": [],
   "source": [
    "data=pd.read_csv(\"D:/DataSet/healthcare-dataset-stroke-data1.csv\")\n",
    "X= data.drop('stroke', axis=1)\n",
    "y= data['stroke']\n",
    "X_train, X_test, y_train, y_test=train_test_split(X,y, test_size=0.20, random_state=10)\n"
   ]
  },
  {
   "cell_type": "code",
   "execution_count": 119,
   "metadata": {},
   "outputs": [
    {
     "name": "stdout",
     "output_type": "stream",
     "text": [
      "SVM:\n",
      " [0 0 0 ... 0 0 0]\n",
      "NBC:\n",
      " [0 0 0 ... 0 0 0]\n",
      "RFR:\n",
      " [0.  0.3 0.2 ... 0.  0.  0. ]\n",
      "DT:\n",
      " [0 1 1 ... 0 0 0]\n",
      "LR:\n",
      " [0 0 0 ... 0 0 0]\n",
      "KNN:\n",
      " [0 0 0 ... 0 0 0]\n"
     ]
    },
    {
     "name": "stderr",
     "output_type": "stream",
     "text": [
      "C:\\ProgramData\\Anaconda3\\lib\\site-packages\\sklearn\\linear_model\\_logistic.py:762: ConvergenceWarning: lbfgs failed to converge (status=1):\n",
      "STOP: TOTAL NO. of ITERATIONS REACHED LIMIT.\n",
      "\n",
      "Increase the number of iterations (max_iter) or scale the data as shown in:\n",
      "    https://scikit-learn.org/stable/modules/preprocessing.html\n",
      "Please also refer to the documentation for alternative solver options:\n",
      "    https://scikit-learn.org/stable/modules/linear_model.html#logistic-regression\n",
      "  n_iter_i = _check_optimize_result(\n"
     ]
    }
   ],
   "source": [
    "#SVM\n",
    "SVM_rbf = SVC(kernel='rbf', random_state=100, gamma=3.0,C=1.5 )\n",
    "svm_classifier=SVM_rbf.fit(X_train,y_train)\n",
    "y_test_prediction_svm = svm_classifier.predict(X_test)\n",
    "print(\"SVM:\\n\",y_test_prediction_svm)\n",
    "\n",
    "#nb\n",
    "nbc=GaussianNB()\n",
    "nbc1=nbc.fit(X_train,y_train)\n",
    "y_test_prediction_nbc = nbc1.predict(X_test)\n",
    "print(\"NBC:\\n\",y_test_prediction_nbc)\n",
    "\n",
    "#RFR\n",
    "regressor = RandomForestRegressor(n_estimators=20, random_state=0)\n",
    "regressor.fit(X_train, y_train)\n",
    "y_test_prediction_rfr = regressor.predict(X_test)\n",
    "print(\"RFR:\\n\",y_test_prediction_rfr)\n",
    "\n",
    "#DT\n",
    "clf = DecisionTreeClassifier()\n",
    "clf = clf.fit(X_train,y_train)\n",
    "y_test_prediction_dt = clf.predict(X_test)\n",
    "print(\"DT:\\n\",y_test_prediction_dt)\n",
    "\n",
    "#LR\n",
    "logreg = LogisticRegression()\n",
    "logreg.fit(X_train,y_train)\n",
    "y_test_prediction_lr=logreg.predict(X_test)\n",
    "print(\"LR:\\n\",y_test_prediction_lr)\n",
    "\n",
    "#KNN\n",
    "knn = KNeighborsClassifier(n_neighbors=5)\n",
    "knn.fit(X_train, y_train)\n",
    "y_test_prediction_knn = knn.predict(X_test)\n",
    "print(\"KNN:\\n\",y_test_prediction_knn)"
   ]
  },
  {
   "cell_type": "code",
   "execution_count": 120,
   "metadata": {},
   "outputs": [
    {
     "name": "stdout",
     "output_type": "stream",
     "text": [
      "Prediction:  [0 0 0 ... 0 0 0]\n",
      "Test:  2413    0\n",
      "1141    0\n",
      "146     1\n",
      "3883    0\n",
      "1044    0\n",
      "       ..\n",
      "2261    0\n",
      "4712    0\n",
      "4971    0\n",
      "2224    0\n",
      "4825    0\n",
      "Name: stroke, Length: 1022, dtype: int64\n",
      "              precision    recall  f1-score   support\n",
      "\n",
      "           0       0.94      1.00      0.97       960\n",
      "           1       0.00      0.00      0.00        62\n",
      "\n",
      "    accuracy                           0.94      1022\n",
      "   macro avg       0.47      0.50      0.48      1022\n",
      "weighted avg       0.88      0.94      0.91      1022\n",
      "\n"
     ]
    },
    {
     "name": "stderr",
     "output_type": "stream",
     "text": [
      "C:\\ProgramData\\Anaconda3\\lib\\site-packages\\sklearn\\metrics\\_classification.py:1221: UndefinedMetricWarning: Precision and F-score are ill-defined and being set to 0.0 in labels with no predicted samples. Use `zero_division` parameter to control this behavior.\n",
      "  _warn_prf(average, modifier, msg_start, len(result))\n"
     ]
    }
   ],
   "source": [
    "print(\"Prediction: \", y_test_prediction_svm)\n",
    "print(\"Test: \", y_test)\n",
    "#print(\"\\n\",confusion_matrix(y_test,y_test_prediction_svm))\n",
    "print(classification_report(y_test,y_test_prediction_svm))"
   ]
  },
  {
   "cell_type": "code",
   "execution_count": 121,
   "metadata": {},
   "outputs": [
    {
     "name": "stdout",
     "output_type": "stream",
     "text": [
      "Prediction:  [0 0 0 ... 0 0 0]\n",
      "Test:  [0 0 1 ... 0 0 0]\n",
      "              precision    recall  f1-score   support\n",
      "\n",
      "           0       0.95      0.96      0.96       960\n",
      "           1       0.27      0.21      0.23        62\n",
      "\n",
      "    accuracy                           0.92      1022\n",
      "   macro avg       0.61      0.59      0.60      1022\n",
      "weighted avg       0.91      0.92      0.91      1022\n",
      "\n"
     ]
    }
   ],
   "source": [
    "from sklearn import preprocessing\n",
    "le=preprocessing.LabelEncoder()\n",
    "y_test=le.fit_transform(y_test)\n",
    "print(\"Prediction: \", y_test_prediction_nbc)\n",
    "print(\"Test: \", y_test)\n",
    "\n",
    "print(classification_report(y_test,y_test_prediction_nbc))"
   ]
  },
  {
   "cell_type": "code",
   "execution_count": 122,
   "metadata": {},
   "outputs": [
    {
     "name": "stdout",
     "output_type": "stream",
     "text": [
      "Linear regressor performance:\n",
      "Mean absolute error = 0.09\n",
      "Mean squared error = 0.06\n",
      "Median absolute error = 0.0\n",
      "Explain variance score = 0.04\n",
      "R2 score = 0.03\n"
     ]
    }
   ],
   "source": [
    "\n",
    "from sklearn.ensemble import RandomForestRegressor\n",
    "from sklearn.metrics import mean_absolute_error\n",
    "from sklearn.model_selection import train_test_split\n",
    "regressor = linear_model.LinearRegression()\n",
    "regressor.fit(X_train, y_train)\n",
    "print(\"Linear regressor performance:\")\n",
    "print(\"Mean absolute error =\", round(sm.mean_absolute_error(y_test, y_test_prediction_rfr), 2))\n",
    "print(\"Mean squared error =\", round(sm.mean_squared_error(y_test, y_test_prediction_rfr), 2)) \n",
    "print(\"Median absolute error =\", round(sm.median_absolute_error(y_test, y_test_prediction_rfr), 2)) \n",
    "print(\"Explain variance score =\", round(sm.explained_variance_score(y_test, y_test_prediction_rfr), 2))\n",
    "print(\"R2 score =\", round(sm.r2_score(y_test, y_test_prediction_rfr), 2))"
   ]
  },
  {
   "cell_type": "code",
   "execution_count": 123,
   "metadata": {},
   "outputs": [
    {
     "name": "stdout",
     "output_type": "stream",
     "text": [
      "Accuracy: 0.9090019569471625\n"
     ]
    }
   ],
   "source": [
    "print(\"Accuracy:\",metrics.accuracy_score(y_test, y_test_prediction_dt))"
   ]
  },
  {
   "cell_type": "code",
   "execution_count": 124,
   "metadata": {},
   "outputs": [
    {
     "name": "stdout",
     "output_type": "stream",
     "text": [
      "Accuracy: 0.9285714285714286\n",
      "Precision: 0.17647058823529413\n",
      "Recall: 0.04838709677419355\n"
     ]
    }
   ],
   "source": [
    "from sklearn import metrics\n",
    "cnf_matrix = metrics.confusion_matrix(y_test, y_test_prediction_lr)\n",
    "cnf_matrix\n",
    "print(\"Accuracy:\",metrics.accuracy_score(y_test, y_test_prediction_lr))\n",
    "print(\"Precision:\",metrics.precision_score(y_test, y_test_prediction_lr))\n",
    "print(\"Recall:\",metrics.recall_score(y_test, y_test_prediction_lr))"
   ]
  },
  {
   "cell_type": "code",
   "execution_count": 126,
   "metadata": {},
   "outputs": [
    {
     "name": "stdout",
     "output_type": "stream",
     "text": [
      "Accuracy: 0.9383561643835616\n"
     ]
    }
   ],
   "source": [
    "print(\"Accuracy:\",metrics.accuracy_score(y_test, y_test_prediction_knn))"
   ]
  },
  {
   "cell_type": "code",
   "execution_count": null,
   "metadata": {},
   "outputs": [],
   "source": []
  }
 ],
 "metadata": {
  "kernelspec": {
   "display_name": "Python 3 (ipykernel)",
   "language": "python",
   "name": "python3"
  },
  "language_info": {
   "codemirror_mode": {
    "name": "ipython",
    "version": 3
   },
   "file_extension": ".py",
   "mimetype": "text/x-python",
   "name": "python",
   "nbconvert_exporter": "python",
   "pygments_lexer": "ipython3",
   "version": "3.9.12"
  }
 },
 "nbformat": 4,
 "nbformat_minor": 4
}
